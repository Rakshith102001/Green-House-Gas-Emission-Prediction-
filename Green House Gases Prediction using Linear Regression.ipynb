{
 "cells": [
  {
   "cell_type": "code",
   "execution_count": 1,
   "id": "35de334a",
   "metadata": {},
   "outputs": [],
   "source": [
    "import numpy as np\n",
    "import matplotlib.pyplot as plt\n",
    "from sklearn.model_selection import train_test_split\n",
    "import pandas as pd\n",
    "from sklearn import metrics\n",
    "import statistics as stat"
   ]
  },
  {
   "cell_type": "code",
   "execution_count": 2,
   "id": "3f5a190e",
   "metadata": {},
   "outputs": [
    {
     "name": "stdout",
     "output_type": "stream",
     "text": [
      "Stdev before Normalization:  238.02629227042567\n",
      "Stdev after Normalization:  0.13133943278533955\n",
      "Cost after iteration 0: 0.6931471805599454\n",
      "Cost after iteration 100: 0.3302408907402007\n",
      "Cost after iteration 200: 0.27868626338424735\n",
      "Cost after iteration 300: 0.2539192054224876\n",
      "Cost after iteration 400: 0.2405640468938888\n",
      "Cost after iteration 500: 0.23087211740325347\n",
      "Cost after iteration 600: 0.22370184896648931\n",
      "Cost after iteration 700: 0.21831865518176785\n",
      "Cost after iteration 800: 0.21702850449356512\n",
      "Cost after iteration 900: 0.21702850449356512\n",
      "Cost after iteration 1000: 0.21702850449356512\n",
      "Cost after iteration 1100: 0.21702850449356512\n",
      "Cost after iteration 1200: 0.21702850449356512\n",
      "Cost after iteration 1300: 0.21702850449356512\n",
      "Cost after iteration 1400: 0.21702850449356512\n"
     ]
    }
   ],
   "source": [
    "import numpy as np\n",
    "\n",
    "def sigmoid(z):\n",
    "    e=2.71828\n",
    "    return 1.0 / (1.0 + e ** -z)\n",
    "\n",
    "def logistic_regression(X, y, learning_rate=0.01, num_iterations=1000):\n",
    "    \n",
    "    m1= X.shape\n",
    "    m=int(str(m1[0]));n=int(str(m1[1]))\n",
    "    w = np.zeros((n,1))\n",
    "    b = 0\n",
    "    \n",
    "    # Gradient descent\n",
    "    for i in range(num_iterations):\n",
    "        z = np.dot(X, w) + b\n",
    "        h = sigmoid(z);eps=0.1\n",
    "        h = np.clip(h, eps, 1-eps)\n",
    "        \n",
    "        #cost\n",
    "        cost = (-1/m) * np.sum(y*np.log(h) + (1-y)*np.log(1-h))\n",
    "        \n",
    "        #gradients\n",
    "        dw = (1/m) * np.dot(X.T, (h-y))\n",
    "        db = (1/m) * np.sum(h-y)\n",
    "        \n",
    "        # Update parameters\n",
    "        w = w - learning_rate * dw\n",
    "        b = b - learning_rate * db\n",
    "        if i % 100 == 0:\n",
    "            print(f\"Cost after iteration {i}: {cost}\")\n",
    "    params = {\"w\": w, \"b\": b}\n",
    "    return params\n",
    "\n",
    "# importing data\n",
    "\n",
    "df=pd.read_csv(\"OneDrive\\Desktop/ghg1.csv\")\n",
    "X = df.iloc[:157,29];X=np.array(X);X=X.reshape(156,1)\n",
    "y = df.iloc[:157,55];y=np.array(y);y=y.T;y=y.reshape(156,1)\n",
    "yl = [element for innerList in y for element in innerList]\n",
    "print(\"Stdev before Normalization: \",stat.stdev(list(yl)))\n",
    "mina=min(y);maxa=max(y);minmax=[];nmina=0;nmaxa=1\n",
    "for v in y:\n",
    "    v1=((v-mina)/(maxa-mina))*((nmaxa-nmina)+nmina)\n",
    "    minmax.append(v1)\n",
    "y=np.array(minmax)\n",
    "yl = [element for innerList in y for element in innerList]\n",
    "print(\"Stdev after Normalization: \",stat.stdev(yl))\n",
    "params = logistic_regression(X, y, learning_rate=0.01, num_iterations=1500)\n",
    "\n",
    "z = np.dot(X, params[\"w\"].T) + params[\"b\"]\n",
    "predictions = sigmoid(z)\n"
   ]
  },
  {
   "cell_type": "code",
   "execution_count": null,
   "id": "ae38a097",
   "metadata": {},
   "outputs": [],
   "source": []
  },
  {
   "cell_type": "code",
   "execution_count": 3,
   "id": "daa144f2",
   "metadata": {},
   "outputs": [],
   "source": [
    "def estimate_coef(x, y):\n",
    "    t1=t2=0;w1=0\n",
    "    mx=(sum(x)/len(x))\n",
    "    my=(sum(y)/len(y))\n",
    "    for i in range(len(x)):\n",
    "        t1+= (x[i]-mx)*(y[i]-my)\n",
    "        t2+= (x[i]-mx)**2\n",
    "    w1=t1/t2\n",
    "    w0=my-w1*mx\n",
    "\n",
    "    return (w0, w1)"
   ]
  },
  {
   "cell_type": "code",
   "execution_count": 4,
   "id": "b6a1d191",
   "metadata": {},
   "outputs": [],
   "source": [
    "def plot_regression_line(X,y, w):\n",
    "    \n",
    "    pred=[]\n",
    "    for x in X:\n",
    "        y1=w[0]+w[1]*x\n",
    "        pred.append(y1)\n",
    "    #Plotting Regression Line\n",
    "    plt.scatter(X,y, color=\"black\")\n",
    "    plt.plot(X,pred, color='green')\n",
    "    plt.ylabel('Green House Gas Emission')\n",
    "    plt.xlabel('Number of years')\n",
    "    plt.title('LINEAR REGRESSION PLOT')\n",
    "    plt.show()  \n",
    "    mabe= round(metrics.median_absolute_error(y,pred), 8)\n",
    "    mse= metrics.mean_squared_error(y,pred)\n",
    "    mae= round(metrics.mean_absolute_error(y,pred), 8)\n",
    "    r2= round(metrics.r2_score(y,pred)*100, 2)\n",
    "    r2= str(r2)+'%'\n",
    "    return pd.DataFrame(data=[['Accuracy',r2],['Mean Absolute Error',mae],['Mean Squared Error',mse],['Median Absolute Error',mabe]],\n",
    "                        columns=['Metrics','Values'])"
   ]
  },
  {
   "cell_type": "code",
   "execution_count": 5,
   "id": "d4073b97",
   "metadata": {},
   "outputs": [
    {
     "name": "stdout",
     "output_type": "stream",
     "text": [
      "156 156\n",
      "Train set size:  109 \n",
      "Test set size 47\n",
      "Estimated coefficients:\n",
      "W0 = [-0.00871469] \n",
      "W1 = [0.03709014]\n"
     ]
    },
    {
     "data": {
      "image/png": "[encoded data removed]",
      "text/plain": [
       "<Figure size 640x480 with 1 Axes>"
      ]
     },
     "metadata": {},
     "output_type": "display_data"
    },
    {
     "data": {
      "text/html": [
       "<div>\n",
       "<style scoped>\n",
       "    .dataframe tbody tr th:only-of-type {\n",
       "        vertical-align: middle;\n",
       "    }\n",
       "\n",
       "    .dataframe tbody tr th {\n",
       "        vertical-align: top;\n",
       "    }\n",
       "\n",
       "    .dataframe thead th {\n",
       "        text-align: right;\n",
       "    }\n",
       "</style>\n",
       "<table border=\"1\" class=\"dataframe\">\n",
       "  <thead>\n",
       "    <tr style=\"text-align: right;\">\n",
       "      <th></th>\n",
       "      <th>Metrics</th>\n",
       "      <th>Values</th>\n",
       "    </tr>\n",
       "  </thead>\n",
       "  <tbody>\n",
       "    <tr>\n",
       "      <th>0</th>\n",
       "      <td>Accuracy</td>\n",
       "      <td>90.21%</td>\n",
       "    </tr>\n",
       "    <tr>\n",
       "      <th>1</th>\n",
       "      <td>Mean Absolute Error</td>\n",
       "      <td>0.003616</td>\n",
       "    </tr>\n",
       "    <tr>\n",
       "      <th>2</th>\n",
       "      <td>Mean Squared Error</td>\n",
       "      <td>0.000018</td>\n",
       "    </tr>\n",
       "    <tr>\n",
       "      <th>3</th>\n",
       "      <td>Median Absolute Error</td>\n",
       "      <td>0.00336</td>\n",
       "    </tr>\n",
       "  </tbody>\n",
       "</table>\n",
       "</div>"
      ],
      "text/plain": [
       "                 Metrics    Values\n",
       "0               Accuracy    90.21%\n",
       "1    Mean Absolute Error  0.003616\n",
       "2     Mean Squared Error  0.000018\n",
       "3  Median Absolute Error   0.00336"
      ]
     },
     "execution_count": 5,
     "metadata": {},
     "output_type": "execute_result"
    }
   ],
   "source": [
    "#LINEAR REGRESSION\n",
    "x = 1/X\n",
    "\n",
    "y = predictions\n",
    "\n",
    "print(len(x),len(y))\n",
    "X_train, X_test, y_train, y_test = train_test_split(x, y, test_size=0.30,random_state=2)\n",
    "print('Train set size: ',len(X_train),'\\nTest set size',len(X_test))\n",
    "\n",
    "\n",
    "w = estimate_coef(list(X_train), list(y_train))\n",
    "print(\"Estimated coefficients:\\nW0 = {} \\\n",
    "\\nW1 = {}\".format(w[0], w[1]))\n",
    "\n",
    "d=plot_regression_line(X_test, y_test, w)\n",
    "d"
   ]
  },
  {
   "cell_type": "code",
   "execution_count": null,
   "id": "be7b9429",
   "metadata": {},
   "outputs": [],
   "source": []
  }
 ],
 "metadata": {
  "kernelspec": {
   "display_name": "Python 3 (ipykernel)",
   "language": "python",
   "name": "python3"
  },
  "language_info": {
   "codemirror_mode": {
    "name": "ipython",
    "version": 3
   },
   "file_extension": ".py",
   "mimetype": "text/x-python",
   "name": "python",
   "nbconvert_exporter": "python",
   "pygments_lexer": "ipython3",
   "version": "3.9.13"
  }
 },
 "nbformat": 4,
 "nbformat_minor": 5
}
